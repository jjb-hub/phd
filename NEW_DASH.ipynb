{
  "cells": [
    {
      "attachments": {},
      "cell_type": "markdown",
      "metadata": {},
      "source": [
        "HOW MUCH RED PAINT DOES IT TAKE TO BE FUNNIER THAN SOUND?"
      ]
    },
    {
      "cell_type": "code",
      "execution_count": null,
      "metadata": {},
      "outputs": [],
      "source": [
        "\n",
        "#INITIATE PROJECT \n",
        "from cyberlabrat.core.Project import Project\n",
        "\n",
        "project = Project('TCB2')\n",
        "project"
      ]
    },
    {
      "cell_type": "code",
      "execution_count": null,
      "metadata": {},
      "outputs": [],
      "source": [
        "#INSPECT DATA\n",
        "from cyberlabrat.core import  HPLC\n",
        "data = HPLC('TCB2').df\n",
        "data\n",
        "data.select(compound='TYR', region = ['PL']) # outlier_status = 'suspected', \n",
        "# data.regions.unique() "
      ]
    },
    {
      "cell_type": "code",
      "execution_count": null,
      "metadata": {},
      "outputs": [],
      "source": [
        "#INSPECT OUTLIERS\n",
        "from cyberlabrat.core import  Outliers\n",
        "\n",
        "data = Outliers('TCB2').df # Outlier_status : normal / suspected / kept / excluded\n",
        "data.select(outlier_status = 'normal', compound='DA', region = ['AC','VPL'], group_id = 1) # outlier_status = 'suspected', "
      ]
    },
    {
      "cell_type": "code",
      "execution_count": 3,
      "metadata": {},
      "outputs": [
        {
          "name": "stdout",
          "output_type": "stream",
          "text": [
            "Skipping region, .select() ignores None for practical purpose s, use 'nan' (str) instead.\n"
          ]
        },
        {
          "name": "stderr",
          "output_type": "stream",
          "text": [
            "Preparing statistical groupings for weights: 100%|██████████| 1/1 [00:00<00:00, 178.06it/s]\n"
          ]
        },
        {
          "data": {
            "application/vnd.jupyter.widget-view+json": {
              "model_id": "f34681e534fa451fa2ab5b7fbe2fd56b",
              "version_major": 2,
              "version_minor": 0
            },
            "text/plain": [
              "Calculating statistics:   0%|          | 0/1 [00:00<?, ?it/s]"
            ]
          },
          "metadata": {},
          "output_type": "display_data"
        },
        {
          "data": {
            "text/html": [
              "<div>\n",
              "<style scoped>\n",
              "    .dataframe tbody tr th:only-of-type {\n",
              "        vertical-align: middle;\n",
              "    }\n",
              "\n",
              "    .dataframe tbody tr th {\n",
              "        vertical-align: top;\n",
              "    }\n",
              "\n",
              "    .dataframe thead th {\n",
              "        text-align: right;\n",
              "    }\n",
              "</style>\n",
              "<table border=\"1\" class=\"dataframe\">\n",
              "  <thead>\n",
              "    <tr style=\"text-align: right;\">\n",
              "      <th></th>\n",
              "      <th>p_value</th>\n",
              "      <th>is_significant</th>\n",
              "      <th>result</th>\n",
              "      <th>result_string</th>\n",
              "      <th>test</th>\n",
              "      <th>p_value_threshold</th>\n",
              "      <th>experiment</th>\n",
              "      <th>compound</th>\n",
              "      <th>region</th>\n",
              "      <th>fully_significant</th>\n",
              "    </tr>\n",
              "  </thead>\n",
              "  <tbody>\n",
              "    <tr>\n",
              "      <th>0</th>\n",
              "      <td>0.142303</td>\n",
              "      <td>False</td>\n",
              "      <td>sum_sq    df         F    PR(...</td>\n",
              "      <td>F(5.0, 58.0) = 1.7292522709641633</td>\n",
              "      <td>one_way_anova</td>\n",
              "      <td>0.05</td>\n",
              "      <td>weights</td>\n",
              "      <td>weight</td>\n",
              "      <td>OF</td>\n",
              "      <td>False</td>\n",
              "    </tr>\n",
              "    <tr>\n",
              "      <th>1</th>\n",
              "      <td>[[], []]</td>\n",
              "      <td>False</td>\n",
              "      <td>group1        group2  meandiff   p-a...</td>\n",
              "      <td>Empty DataFrame\n",
              "Columns: [pairs, p_values]\n",
              "Ind...</td>\n",
              "      <td>tukey</td>\n",
              "      <td>0.05</td>\n",
              "      <td>weights</td>\n",
              "      <td>weight</td>\n",
              "      <td>OF</td>\n",
              "      <td>False</td>\n",
              "    </tr>\n",
              "  </tbody>\n",
              "</table>\n",
              "</div>"
            ],
            "text/plain": [
              "    p_value  is_significant  \\\n",
              "0  0.142303           False   \n",
              "1  [[], []]           False   \n",
              "\n",
              "                                              result  \\\n",
              "0                   sum_sq    df         F    PR(...   \n",
              "1            group1        group2  meandiff   p-a...   \n",
              "\n",
              "                                       result_string           test  \\\n",
              "0                  F(5.0, 58.0) = 1.7292522709641633  one_way_anova   \n",
              "1  Empty DataFrame\n",
              "Columns: [pairs, p_values]\n",
              "Ind...          tukey   \n",
              "\n",
              "   p_value_threshold experiment compound region  fully_significant  \n",
              "0               0.05    weights   weight     OF              False  \n",
              "1               0.05    weights   weight     OF              False  "
            ]
          },
          "execution_count": 3,
          "metadata": {},
          "output_type": "execute_result"
        }
      ],
      "source": [
        "from cyberlabrat.core.Figure import QuantitativeDataSelection\n",
        "\n",
        "data  =QuantitativeDataSelection(project='TCB2', experiment=\"weights\")\n",
        "data.statistics_table"
      ]
    },
    {
      "cell_type": "code",
      "execution_count": 4,
      "metadata": {},
      "outputs": [
        {
          "data": {
            "text/html": [
              "<div>\n",
              "<style scoped>\n",
              "    .dataframe tbody tr th:only-of-type {\n",
              "        vertical-align: middle;\n",
              "    }\n",
              "\n",
              "    .dataframe tbody tr th {\n",
              "        vertical-align: top;\n",
              "    }\n",
              "\n",
              "    .dataframe thead tr th {\n",
              "        text-align: left;\n",
              "    }\n",
              "</style>\n",
              "<table border=\"1\" class=\"dataframe\">\n",
              "  <thead>\n",
              "    <tr>\n",
              "      <th>test</th>\n",
              "      <th>one_way_anova</th>\n",
              "    </tr>\n",
              "    <tr>\n",
              "      <th>compound</th>\n",
              "      <th>weight</th>\n",
              "    </tr>\n",
              "  </thead>\n",
              "  <tbody>\n",
              "    <tr>\n",
              "      <th>OF</th>\n",
              "      <td>F(3.0, 39.0) = 0.5713932031624481</td>\n",
              "    </tr>\n",
              "  </tbody>\n",
              "</table>\n",
              "</div>"
            ],
            "text/plain": [
              "StatisticsTable(project='TCB2', experiment=None, treatment=None, compound='weight', region=None, remove_outliers=None, data_source='hplc', p_value_threshold=0.05, pool=None, statistics_pipeline=None, filepath='/home/remi/phd/PROJECTS/TCB2/weight in all regions STATS.xlsx', from_scratch=False, custom_params={}, figure_type='table')"
            ]
          },
          "execution_count": 4,
          "metadata": {},
          "output_type": "execute_result"
        }
      ],
      "source": [
        "Correl"
      ]
    },
    {
      "cell_type": "code",
      "execution_count": 1,
      "metadata": {},
      "outputs": [
        {
          "ename": "NotImplementedError",
          "evalue": "Contant registries should be handled directly in the JSON",
          "output_type": "error",
          "traceback": [
            "\u001b[0;31m---------------------------------------------------------------------------\u001b[0m",
            "\u001b[0;31mNotImplementedError\u001b[0m                       Traceback (most recent call last)",
            "Cell \u001b[0;32mIn[1], line 2\u001b[0m\n\u001b[1;32m      1\u001b[0m \u001b[38;5;66;03m# SINGLE CORRECLATION\u001b[39;00m\n\u001b[0;32m----> 2\u001b[0m \u001b[38;5;28;01mfrom\u001b[39;00m \u001b[38;5;21;01mcyberlabrat\u001b[39;00m\u001b[38;5;21;01m.\u001b[39;00m\u001b[38;5;21;01mcore\u001b[39;00m\u001b[38;5;21;01m.\u001b[39;00m\u001b[38;5;21;01mFigure\u001b[39;00m \u001b[38;5;28;01mimport\u001b[39;00m Correlation \n\u001b[1;32m      6\u001b[0m Correlation(project \u001b[38;5;241m=\u001b[39m\u001b[38;5;124m'\u001b[39m\u001b[38;5;124mTCB2\u001b[39m\u001b[38;5;124m'\u001b[39m, \n\u001b[1;32m      7\u001b[0m                 experiment\u001b[38;5;241m=\u001b[39m\u001b[38;5;124m'\u001b[39m\u001b[38;5;124magonist antagonist\u001b[39m\u001b[38;5;124m'\u001b[39m, \n\u001b[1;32m      8\u001b[0m                 treatment \u001b[38;5;241m=\u001b[39m \u001b[38;5;124m'\u001b[39m\u001b[38;5;124mvehicles\u001b[39m\u001b[38;5;124m'\u001b[39m,\n\u001b[0;32m   (...)\u001b[0m\n\u001b[1;32m     12\u001b[0m                 remove_outliers\u001b[38;5;241m=\u001b[39m\u001b[38;5;124m'\u001b[39m\u001b[38;5;124mcalculated\u001b[39m\u001b[38;5;124m'\u001b[39m, \u001b[38;5;66;03m# calculated / eliminated / False\u001b[39;00m\n\u001b[1;32m     13\u001b[0m                 )\n",
            "File \u001b[0;32m~/phd/cyberlabrat/__init__.py:1\u001b[0m\n\u001b[0;32m----> 1\u001b[0m \u001b[38;5;28;01mfrom\u001b[39;00m \u001b[38;5;21;01m.\u001b[39;00m\u001b[38;5;21;01mcore\u001b[39;00m\u001b[38;5;21;01m.\u001b[39;00m\u001b[38;5;21;01mFigure\u001b[39;00m \u001b[38;5;28;01mimport\u001b[39;00m Histogram, Correlation, Correlogram, Network, Table, StatisticsTable\n",
            "File \u001b[0;32m~/phd/cyberlabrat/core/__init__.py:3\u001b[0m\n\u001b[1;32m      1\u001b[0m \u001b[38;5;28;01mfrom\u001b[39;00m \u001b[38;5;21;01m.\u001b[39;00m\u001b[38;5;21;01mFileSystem\u001b[39;00m \u001b[38;5;28;01mimport\u001b[39;00m FileSystem\n\u001b[1;32m      2\u001b[0m \u001b[38;5;28;01mfrom\u001b[39;00m \u001b[38;5;21;01m.\u001b[39;00m\u001b[38;5;21;01mDataset\u001b[39;00m \u001b[38;5;28;01mimport\u001b[39;00m ExcelDataset, PickleDataset\n\u001b[0;32m----> 3\u001b[0m \u001b[38;5;28;01mfrom\u001b[39;00m \u001b[38;5;21;01m.\u001b[39;00m\u001b[38;5;21;01mProject\u001b[39;00m \u001b[38;5;28;01mimport\u001b[39;00m Project\n\u001b[1;32m      4\u001b[0m \u001b[38;5;28;01mfrom\u001b[39;00m \u001b[38;5;21;01m.\u001b[39;00m\u001b[38;5;21;01mHPLC\u001b[39;00m \u001b[38;5;28;01mimport\u001b[39;00m HPLC\n\u001b[1;32m      5\u001b[0m \u001b[38;5;28;01mfrom\u001b[39;00m \u001b[38;5;21;01m.\u001b[39;00m\u001b[38;5;21;01mStatistics\u001b[39;00m \u001b[38;5;28;01mimport\u001b[39;00m Statistics, QuantitativeStatistic\n",
            "File \u001b[0;32m~/phd/cyberlabrat/core/Project.py:10\u001b[0m\n\u001b[1;32m      4\u001b[0m \u001b[38;5;28;01mfrom\u001b[39;00m \u001b[38;5;21;01mcyberlabrat\u001b[39;00m\u001b[38;5;21;01m.\u001b[39;00m\u001b[38;5;21;01mcore\u001b[39;00m\u001b[38;5;21;01m.\u001b[39;00m\u001b[38;5;21;01mquestions\u001b[39;00m \u001b[38;5;28;01mimport\u001b[39;00m yes_or_no\n\u001b[1;32m      5\u001b[0m \u001b[38;5;28;01mfrom\u001b[39;00m \u001b[38;5;21;01mcyberlabrat\u001b[39;00m\u001b[38;5;21;01m.\u001b[39;00m\u001b[38;5;21;01mcore\u001b[39;00m\u001b[38;5;21;01m.\u001b[39;00m\u001b[38;5;21;01mMetadata\u001b[39;00m \u001b[38;5;28;01mimport\u001b[39;00m (\n\u001b[1;32m      6\u001b[0m     ExperimentInformation,\n\u001b[1;32m      7\u001b[0m     TreatmentInformation,\n\u001b[1;32m      8\u001b[0m     ProjectInformation,\n\u001b[1;32m      9\u001b[0m )\n\u001b[0;32m---> 10\u001b[0m \u001b[38;5;28;01mfrom\u001b[39;00m \u001b[38;5;21;01mcyberlabrat\u001b[39;00m\u001b[38;5;21;01m.\u001b[39;00m\u001b[38;5;21;01mcore\u001b[39;00m\u001b[38;5;21;01m.\u001b[39;00m\u001b[38;5;21;01mHPLC\u001b[39;00m \u001b[38;5;28;01mimport\u001b[39;00m RawHPLC, HPLC, Outliers\n\u001b[1;32m     11\u001b[0m \u001b[38;5;28;01mfrom\u001b[39;00m \u001b[38;5;21;01mcyberlabrat\u001b[39;00m\u001b[38;5;21;01m.\u001b[39;00m\u001b[38;5;21;01mcore\u001b[39;00m\u001b[38;5;21;01m.\u001b[39;00m\u001b[38;5;21;01mStatistics\u001b[39;00m \u001b[38;5;28;01mimport\u001b[39;00m Statistics\n\u001b[1;32m     12\u001b[0m \u001b[38;5;28;01mimport\u001b[39;00m \u001b[38;5;21;01mos\u001b[39;00m\n",
            "File \u001b[0;32m~/phd/cyberlabrat/core/HPLC.py:13\u001b[0m\n\u001b[1;32m      7\u001b[0m \u001b[38;5;28;01mfrom\u001b[39;00m \u001b[38;5;21;01mcyberlabrat\u001b[39;00m\u001b[38;5;21;01m.\u001b[39;00m\u001b[38;5;21;01mcore\u001b[39;00m\u001b[38;5;21;01m.\u001b[39;00m\u001b[38;5;21;01mMetadata\u001b[39;00m \u001b[38;5;28;01mimport\u001b[39;00m (\n\u001b[1;32m      8\u001b[0m     ProjectInformation,\n\u001b[1;32m      9\u001b[0m     ExperimentInformation,\n\u001b[1;32m     10\u001b[0m     TreatmentInformation,\n\u001b[1;32m     11\u001b[0m )\n\u001b[1;32m     12\u001b[0m \u001b[38;5;28;01mfrom\u001b[39;00m \u001b[38;5;21;01mcyberlabrat\u001b[39;00m\u001b[38;5;21;01m.\u001b[39;00m\u001b[38;5;21;01mcore\u001b[39;00m\u001b[38;5;21;01m.\u001b[39;00m\u001b[38;5;21;01mquestions\u001b[39;00m \u001b[38;5;28;01mimport\u001b[39;00m yes_or_no, input_escape\n\u001b[0;32m---> 13\u001b[0m \u001b[38;5;28;01mfrom\u001b[39;00m \u001b[38;5;21;01mcyberlabrat\u001b[39;00m\u001b[38;5;21;01m.\u001b[39;00m\u001b[38;5;21;01mcore\u001b[39;00m\u001b[38;5;21;01m.\u001b[39;00m\u001b[38;5;21;01mConstants\u001b[39;00m \u001b[38;5;28;01mimport\u001b[39;00m REGIONS, COMPOUNDS\n\u001b[1;32m     14\u001b[0m \u001b[38;5;28;01mfrom\u001b[39;00m \u001b[38;5;21;01mtqdm\u001b[39;00m \u001b[38;5;28;01mimport\u001b[39;00m tqdm\n\u001b[1;32m     15\u001b[0m \u001b[38;5;28;01mfrom\u001b[39;00m \u001b[38;5;21;01moutliers\u001b[39;00m \u001b[38;5;28;01mimport\u001b[39;00m smirnov_grubbs \u001b[38;5;28;01mas\u001b[39;00m grubbs\n",
            "File \u001b[0;32m~/phd/cyberlabrat/core/Constants.py:82\u001b[0m\n\u001b[1;32m     78\u001b[0m     \u001b[38;5;28;01mdef\u001b[39;00m \u001b[38;5;21morder\u001b[39m(\u001b[38;5;28mself\u001b[39m, iterable):\n\u001b[1;32m     79\u001b[0m         \u001b[38;5;28;01mreturn\u001b[39;00m [item \u001b[38;5;28;01mfor\u001b[39;00m item \u001b[38;5;129;01min\u001b[39;00m \u001b[38;5;28mself\u001b[39m \u001b[38;5;28;01mif\u001b[39;00m item \u001b[38;5;129;01min\u001b[39;00m iterable]\n\u001b[0;32m---> 82\u001b[0m REGIONS \u001b[38;5;241m=\u001b[39m \u001b[43mConstantRegistry\u001b[49m\u001b[43m(\u001b[49m\u001b[43mfilepath\u001b[49m\u001b[38;5;241;43m=\u001b[39;49m\u001b[43mos\u001b[49m\u001b[38;5;241;43m.\u001b[39;49m\u001b[43mpath\u001b[49m\u001b[38;5;241;43m.\u001b[39;49m\u001b[43mjoin\u001b[49m\u001b[43m(\u001b[49m\u001b[43mFileSystem\u001b[49m\u001b[38;5;241;43m.\u001b[39;49m\u001b[43mCONSTANTS\u001b[49m\u001b[43m,\u001b[49m\u001b[43m \u001b[49m\u001b[38;5;124;43m\"\u001b[39;49m\u001b[38;5;124;43mregions\u001b[39;49m\u001b[38;5;124;43m\"\u001b[39;49m\u001b[43m)\u001b[49m\u001b[43m)\u001b[49m\n\u001b[1;32m     83\u001b[0m COMPOUNDS \u001b[38;5;241m=\u001b[39m ConstantRegistry(filepath\u001b[38;5;241m=\u001b[39mos\u001b[38;5;241m.\u001b[39mpath\u001b[38;5;241m.\u001b[39mjoin(FileSystem\u001b[38;5;241m.\u001b[39mCONSTANTS, \u001b[38;5;124m\"\u001b[39m\u001b[38;5;124mcompounds\u001b[39m\u001b[38;5;124m\"\u001b[39m))\n\u001b[1;32m     84\u001b[0m COMPOUND_CLASSES \u001b[38;5;241m=\u001b[39m ConstantRegistry(\n\u001b[1;32m     85\u001b[0m     filepath\u001b[38;5;241m=\u001b[39mos\u001b[38;5;241m.\u001b[39mpath\u001b[38;5;241m.\u001b[39mjoin(FileSystem\u001b[38;5;241m.\u001b[39mCONSTANTS, \u001b[38;5;124m\"\u001b[39m\u001b[38;5;124mcompound_classes\u001b[39m\u001b[38;5;124m\"\u001b[39m)\n\u001b[1;32m     86\u001b[0m )\n",
            "File \u001b[0;32m<string>:5\u001b[0m, in \u001b[0;36m__init__\u001b[0;34m(self, filepath, from_scratch)\u001b[0m\n",
            "File \u001b[0;32m~/phd/cyberlabrat/core/Cacheable.py:57\u001b[0m, in \u001b[0;36mCacheable.__post_init__\u001b[0;34m(self)\u001b[0m\n\u001b[1;32m     55\u001b[0m \u001b[38;5;28mself\u001b[39m\u001b[38;5;241m.\u001b[39mfilepath \u001b[38;5;241m=\u001b[39m \u001b[38;5;124mf\u001b[39m\u001b[38;5;124m\"\u001b[39m\u001b[38;5;132;01m{\u001b[39;00mfilepath\u001b[38;5;132;01m}\u001b[39;00m\u001b[38;5;124m.\u001b[39m\u001b[38;5;132;01m{\u001b[39;00m\u001b[38;5;28mself\u001b[39m\u001b[38;5;241m.\u001b[39mextension\u001b[38;5;132;01m}\u001b[39;00m\u001b[38;5;124m\"\u001b[39m\n\u001b[1;32m     56\u001b[0m \u001b[38;5;28;01mif\u001b[39;00m \u001b[38;5;129;01mnot\u001b[39;00m \u001b[38;5;28mself\u001b[39m\u001b[38;5;241m.\u001b[39mis_saved \u001b[38;5;129;01mor\u001b[39;00m \u001b[38;5;28mself\u001b[39m\u001b[38;5;241m.\u001b[39mfrom_scratch:\n\u001b[0;32m---> 57\u001b[0m     \u001b[38;5;28;43mself\u001b[39;49m\u001b[38;5;241;43m.\u001b[39;49m\u001b[43minitialize\u001b[49m\u001b[43m(\u001b[49m\u001b[43m)\u001b[49m\n",
            "File \u001b[0;32m~/phd/cyberlabrat/core/Cacheable.py:68\u001b[0m, in \u001b[0;36mCacheable.initialize\u001b[0;34m(self)\u001b[0m\n\u001b[1;32m     64\u001b[0m \u001b[38;5;28;01mdef\u001b[39;00m \u001b[38;5;21minitialize\u001b[39m(\u001b[38;5;28mself\u001b[39m):\n\u001b[1;32m     65\u001b[0m \u001b[38;5;250m    \u001b[39m\u001b[38;5;124;03m\"\"\"\u001b[39;00m\n\u001b[1;32m     66\u001b[0m \u001b[38;5;124;03m    Calls the generate method and saves what it return to disk.\u001b[39;00m\n\u001b[1;32m     67\u001b[0m \u001b[38;5;124;03m    \"\"\"\u001b[39;00m\n\u001b[0;32m---> 68\u001b[0m     data \u001b[38;5;241m=\u001b[39m \u001b[38;5;28;43mself\u001b[39;49m\u001b[38;5;241;43m.\u001b[39;49m\u001b[43mgenerate\u001b[49m\u001b[43m(\u001b[49m\u001b[43m)\u001b[49m\n\u001b[1;32m     69\u001b[0m     \u001b[38;5;28mself\u001b[39m\u001b[38;5;241m.\u001b[39msave(data) \u001b[38;5;28;01mif\u001b[39;00m data \u001b[38;5;129;01mis\u001b[39;00m \u001b[38;5;129;01mnot\u001b[39;00m \u001b[38;5;28;01mNone\u001b[39;00m \u001b[38;5;28;01melse\u001b[39;00m \u001b[38;5;28mself\u001b[39m\u001b[38;5;241m.\u001b[39msave()\n\u001b[1;32m     70\u001b[0m     \u001b[38;5;28mprint\u001b[39m(\u001b[38;5;124mf\u001b[39m\u001b[38;5;124m\"\u001b[39m\u001b[38;5;124mCREATED AND CACHED \u001b[39m\u001b[38;5;132;01m{\u001b[39;00m\u001b[38;5;28mself\u001b[39m\u001b[38;5;241m.\u001b[39mfilepath\u001b[38;5;132;01m}\u001b[39;00m\u001b[38;5;124m\"\u001b[39m)\n",
            "File \u001b[0;32m~/phd/cyberlabrat/core/Constants.py:25\u001b[0m, in \u001b[0;36mConstantRegistry.generate\u001b[0;34m(self)\u001b[0m\n\u001b[1;32m     24\u001b[0m \u001b[38;5;28;01mdef\u001b[39;00m \u001b[38;5;21mgenerate\u001b[39m(\u001b[38;5;28mself\u001b[39m):\n\u001b[0;32m---> 25\u001b[0m     \u001b[38;5;28;01mraise\u001b[39;00m \u001b[38;5;167;01mNotImplementedError\u001b[39;00m(\n\u001b[1;32m     26\u001b[0m         \u001b[38;5;124m\"\u001b[39m\u001b[38;5;124mContant registries should be handled directly in the JSON\u001b[39m\u001b[38;5;124m\"\u001b[39m\n\u001b[1;32m     27\u001b[0m     )\n",
            "\u001b[0;31mNotImplementedError\u001b[0m: Contant registries should be handled directly in the JSON"
          ]
        }
      ],
      "source": [
        "# SINGLE CORRECLATION\n",
        "from cyberlabrat.core.Figure import Correlation \n",
        "\n",
        "\n",
        "\n",
        "Correlation(project ='TCB2', \n",
        "                experiment='agonist antagonist', \n",
        "                treatment = 'vehicles',\n",
        "                compound='DA', \n",
        "                region= ['VPL','SN'], \n",
        "                from_scratch=True, \n",
        "                remove_outliers='calculated', # calculated / eliminated / False\n",
        "                )"
      ]
    },
    {
      "cell_type": "code",
      "execution_count": null,
      "metadata": {},
      "outputs": [],
      "source": [
        "from cyberlabrat.core.Figure import Correlogram \n",
        "\n",
        "legit_regions = [\"OF\",\"PL\",\"aCC\",\"M1\",\"SJ\",\"S1L\",\"S1R\",\"AC\",\"V1\",\"A\",\"dH\",\"vH\",\"NAc\",\"VM\",\"DM\",\"VL\",\"DL\",\"MD\",\"VPL\",\"VPR\",\"DLG\",\"HY\",\"SC\",\"SN\",\"VTA\",\"DR\",\"MR\",\"CB\"]\n",
        "\n",
        "\n",
        "Correlogram(project ='TCB2', \n",
        "                # experiment='agonist antagonist', \n",
        "                compound='5HT-DA', \n",
        "                region= legit_regions, \n",
        "                from_scratch=True, \n",
        "                remove_outliers='calculated', # calculated / eliminated / False\n",
        "                )"
      ]
    },
    {
      "cell_type": "code",
      "execution_count": null,
      "metadata": {},
      "outputs": [],
      "source": [
        "legit_regions = [\"OF\",\"PL\",\"aCC\",\"M1\",\"SJ\",\"S1L\",\"S1R\",\"AC\",\"V1\",\"A\",\"dH\",\"vH\",\"NAc\",\"VM\",\"DM\",\"VL\",\"DL\",\"MD\",\"VPL\",\"VPR\",\"DLG\",\"HY\",\"SC\",\"SN\",\"VTA\",\"DR\",\"MR\",\"CB\"]\n",
        "print(len(legit_regions))"
      ]
    },
    {
      "cell_type": "code",
      "execution_count": null,
      "metadata": {},
      "outputs": [],
      "source": [
        "from cyberlabrat.core.Figure import Network \n",
        "from cyberlabrat.core.Constants import * \n",
        "\n",
        "legit_regions = [\"OF\",\"PL\",\"aCC\",\"M1\",\"SJ\",\"S1L\",\"S1R\",\"AC\",\"V1\",\"A\",\"dH\",\"vH\",\"NAc\",\"VM\",\"DM\",\"VL\",\"DL\",\"MD\",\"VPL\",\"VPR\",\"DLG\",\"HY\",\"SC\",\"SN\",\"VTA\",\"DR\",\"MR\",\"CB\"]\n",
        "\n",
        "node_positions = {'OF': (5.9,2.4), \n",
        "                  'PL': (5.6, 3.5), \n",
        "                  'aCC':(7.1,4), \n",
        "                  'M1':(6.2,3.8), \n",
        "                  'SJ': (7.5,3.8), \n",
        "                  'S1L':(8.5,3.8), 'S1R': (8.2,4.1), \n",
        "                  'AC': (9.9,4.2), \n",
        "                  'V1': (10.9,4), \n",
        "                  'MD': (10.3,1.45), \n",
        "                  'VPR': (9.1,1.45), 'VPL': (9.4,1.15), \n",
        "                  'DLG': (9.7,1.9)\n",
        "}\n",
        "\n",
        "Network(project ='TCB2', \n",
        "                # experiment='agonist antagonist', \n",
        "                node_positions = node_positions,\n",
        "                compound='5HT', \n",
        "                region= REGION_CLASSES['thalamocortical_interaction'], \n",
        "                from_scratch=True, \n",
        "                remove_outliers='calculated', # calculated / eliminated / False\n",
        "                )\n",
        "\n",
        "# print (REGION_CLASSES['thalamocortical_interaction'])"
      ]
    },
    {
      "cell_type": "code",
      "execution_count": null,
      "metadata": {},
      "outputs": [],
      "source": [
        "# GRAPH TABLE \n"
      ]
    },
    {
      "cell_type": "code",
      "execution_count": null,
      "metadata": {},
      "outputs": [],
      "source": [
        "#TABLES \n",
        "# shapiro wilk and % of groups normal (+ non parametric versions of all)\n",
        "# tissue weights\n",
        "# publication table of quantatiatve data \n",
        "\n",
        "from cyberlabrat.core.Figure import Table\n",
        "\n",
        "legit_regions = [\"OF\",\"PL\",\"aCC\",\"M1\",\"SJ\",\"S1L\",\"S1R\",\"AC\",\"V1\",\"A\",\"dH\",\"vH\",\"NAc\",\"VM\",\"DM\",\"VL\",\"DL\",\"MD\",\"VPL\",\"VPR\",\"DLG\",\"HY\",\"SC\",\"SN\",\"VTA\",\"DR\",\"MR\",\"CB\"]\n",
        "\n",
        "\n",
        "table = Table(project ='TCB2', \n",
        "                experiment='agonist antagonist', \n",
        "                compound=['5HT', 'DA', 'NA'], #SD\n",
        "                region= legit_regions, \n",
        "                from_scratch=True, \n",
        "                remove_outliers='calculated', # calculated / eliminated / False\n",
        "                )\n",
        "table.statistics_table.select(test='one_way_anova', index=0)\n",
        "\n"
      ]
    },
    {
      "cell_type": "code",
      "execution_count": null,
      "metadata": {},
      "outputs": [],
      "source": [
        "from cyberlabrat.core.Statistics import QuantitativeStatistic\n",
        "\n",
        "QuantitativeStatistic.calculate(project=\"TCB2\", experiment=\"agonist antagonist\", compound=\"weight\")"
      ]
    }
  ],
  "metadata": {
    "kernelspec": {
      "display_name": ".venv",
      "language": "python",
      "name": "python3"
    },
    "language_info": {
      "codemirror_mode": {
        "name": "ipython",
        "version": 3
      },
      "file_extension": ".py",
      "mimetype": "text/x-python",
      "name": "python",
      "nbconvert_exporter": "python",
      "pygments_lexer": "ipython3",
      "version": "3.10.12"
    },
    "orig_nbformat": 4
  },
  "nbformat": 4,
  "nbformat_minor": 2
}
