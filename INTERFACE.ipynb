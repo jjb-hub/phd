{
 "cells": [
  {
   "cell_type": "code",
   "execution_count": null,
   "metadata": {},
   "outputs": [],
   "source": [
    "# INTERFACE\n",
    "from module.core.display import playground\n",
    "from module.core.Project import Project\n",
    "\n",
    "# Project('example_project_name') #initiate project \n",
    "\n",
    "playground() # loat interface"
   ]
  },
  {
   "cell_type": "code",
   "execution_count": null,
   "metadata": {},
   "outputs": [],
   "source": [
    "#INSPECT PROJECT PRAMS\n",
    "from module.core import ExperimentInformation, TreatmentInformation, Palette\n",
    "from module.core.Metadata import ExperimentInformation\n",
    "\n",
    "# TreatmentInformation('TCB-2').open()\n",
    "Palette(\"TCB-2\").open()\n",
    "ExperimentInformation(\"TCB-2\").open()\n"
   ]
  },
  {
   "cell_type": "code",
   "execution_count": 1,
   "metadata": {},
   "outputs": [
    {
     "name": "stderr",
     "output_type": "stream",
     "text": [
      "Preparing statistical groupings for weight: 100%|██████████| 25/25 [00:00<00:00, 4771.03it/s]\n"
     ]
    },
    {
     "data": {
      "application/vnd.jupyter.widget-view+json": {
       "model_id": "9ac5c9ebf55841658ca832150a9f61d7",
       "version_major": 2,
       "version_minor": 0
      },
      "text/plain": [
       "Calculating statistics:   0%|          | 0/25 [00:00<?, ?it/s]"
      ]
     },
     "metadata": {},
     "output_type": "display_data"
    },
    {
     "name": "stdout",
     "output_type": "stream",
     "text": [
      "CREATED AND CACHED /Users/jasminebutler/Desktop/phd/PROJECTS/TCB-2/weight/weight in ['OF', 'PL', 'aCC', 'M1', 'SJ', 'S1L', 'S1R', 'AC', 'V1', 'A', 'dH', 'vH', 'NAc', 'VM', 'DM', 'VL', 'DL', 'MD', 'VPL', 'VPR', 'DLG', 'HY', 'SC', 'SN', 'VTA', 'DR', 'MR', 'CB'] STATS.xlsx\n"
     ]
    },
    {
     "data": {
      "text/html": [
       "<div>\n",
       "<style scoped>\n",
       "    .dataframe tbody tr th:only-of-type {\n",
       "        vertical-align: middle;\n",
       "    }\n",
       "\n",
       "    .dataframe tbody tr th {\n",
       "        vertical-align: top;\n",
       "    }\n",
       "\n",
       "    .dataframe thead tr th {\n",
       "        text-align: left;\n",
       "    }\n",
       "</style>\n",
       "<table border=\"1\" class=\"dataframe\">\n",
       "  <thead>\n",
       "    <tr>\n",
       "      <th>test</th>\n",
       "      <th>one_way_anova</th>\n",
       "    </tr>\n",
       "    <tr>\n",
       "      <th>compound</th>\n",
       "      <th>weight</th>\n",
       "    </tr>\n",
       "  </thead>\n",
       "  <tbody>\n",
       "    <tr>\n",
       "      <th>OF</th>\n",
       "      <td>F(5, 58) = 1.73, p = 0.14</td>\n",
       "    </tr>\n",
       "    <tr>\n",
       "      <th>PL</th>\n",
       "      <td>F(5, 58) = 1.67, p = 0.16</td>\n",
       "    </tr>\n",
       "    <tr>\n",
       "      <th>aCC</th>\n",
       "      <td>F(5, 58) = 0.31, p = 0.91</td>\n",
       "    </tr>\n",
       "    <tr>\n",
       "      <th>SJ</th>\n",
       "      <td>F(5, 58) = 1.45, p = 0.22</td>\n",
       "    </tr>\n",
       "    <tr>\n",
       "      <th>S1R</th>\n",
       "      <td>F(5, 58) = 0.4, p = 0.85</td>\n",
       "    </tr>\n",
       "    <tr>\n",
       "      <th>AC</th>\n",
       "      <td>F(5, 58) = 0.73, p = 0.61</td>\n",
       "    </tr>\n",
       "    <tr>\n",
       "      <th>V1</th>\n",
       "      <td>F(5, 58) = 0.97, p = 0.45</td>\n",
       "    </tr>\n",
       "    <tr>\n",
       "      <th>A</th>\n",
       "      <td>F(5, 58) = 0.46, p = 0.81</td>\n",
       "    </tr>\n",
       "    <tr>\n",
       "      <th>dH</th>\n",
       "      <td>F(5, 58) = 0.3, p = 0.91</td>\n",
       "    </tr>\n",
       "    <tr>\n",
       "      <th>vH</th>\n",
       "      <td>F(5, 58) = 0.83, p = 0.53</td>\n",
       "    </tr>\n",
       "    <tr>\n",
       "      <th>VM</th>\n",
       "      <td>F(5, 58) = 2.39, p = 0.05 *</td>\n",
       "    </tr>\n",
       "    <tr>\n",
       "      <th>DM</th>\n",
       "      <td>F(5, 58) = 0.73, p = 0.6</td>\n",
       "    </tr>\n",
       "    <tr>\n",
       "      <th>VL</th>\n",
       "      <td>F(5, 58) = 0.59, p = 0.71</td>\n",
       "    </tr>\n",
       "    <tr>\n",
       "      <th>DL</th>\n",
       "      <td>F(5, 58) = 0.56, p = 0.73</td>\n",
       "    </tr>\n",
       "    <tr>\n",
       "      <th>MD</th>\n",
       "      <td>F(5, 58) = 1.32, p = 0.27</td>\n",
       "    </tr>\n",
       "    <tr>\n",
       "      <th>VPL</th>\n",
       "      <td>F(5, 58) = 2.1, p = 0.08</td>\n",
       "    </tr>\n",
       "    <tr>\n",
       "      <th>VPR</th>\n",
       "      <td>F(5, 58) = 1.06, p = 0.39</td>\n",
       "    </tr>\n",
       "    <tr>\n",
       "      <th>DLG</th>\n",
       "      <td>F(5, 58) = 0.64, p = 0.67</td>\n",
       "    </tr>\n",
       "    <tr>\n",
       "      <th>HY</th>\n",
       "      <td>F(5, 58) = 1.75, p = 0.14</td>\n",
       "    </tr>\n",
       "    <tr>\n",
       "      <th>SC</th>\n",
       "      <td>F(5, 57) = 2.56, p = 0.04 *</td>\n",
       "    </tr>\n",
       "    <tr>\n",
       "      <th>SN</th>\n",
       "      <td>F(5, 58) = 0.76, p = 0.59</td>\n",
       "    </tr>\n",
       "    <tr>\n",
       "      <th>VTA</th>\n",
       "      <td>F(5, 58) = 0.81, p = 0.55</td>\n",
       "    </tr>\n",
       "    <tr>\n",
       "      <th>DR</th>\n",
       "      <td>F(5, 58) = 0.9, p = 0.49</td>\n",
       "    </tr>\n",
       "    <tr>\n",
       "      <th>MR</th>\n",
       "      <td>F(5, 58) = 1.42, p = 0.23</td>\n",
       "    </tr>\n",
       "    <tr>\n",
       "      <th>CB</th>\n",
       "      <td>F(5, 58) = 0.63, p = 0.68</td>\n",
       "    </tr>\n",
       "  </tbody>\n",
       "</table>\n",
       "</div>"
      ],
      "text/plain": [
       "StatisticsTable(project='TCB-2', experiment='weight', treatment=None, compound='weight', region=['OF', 'PL', 'aCC', 'M1', 'SJ', 'S1L', 'S1R', 'AC', 'V1', 'A', 'dH', 'vH', 'NAc', 'VM', 'DM', 'VL', 'DL', 'MD', 'VPL', 'VPR', 'DLG', 'HY', 'SC', 'SN', 'VTA', 'DR', 'MR', 'CB'], remove_outliers=None, data_source='hplc', p_value_threshold=0.05, pool=None, statistics_pipeline=None, filepath=\"/Users/jasminebutler/Desktop/phd/PROJECTS/TCB-2/weight/weight in ['OF', 'PL', 'aCC', 'M1', 'SJ', 'S1L', 'S1R', 'AC', 'V1', 'A', 'dH', 'vH', 'NAc', 'VM', 'DM', 'VL', 'DL', 'MD', 'VPL', 'VPR', 'DLG', 'HY', 'SC', 'SN', 'VTA', 'DR', 'MR', 'CB'] STATS.xlsx\", from_scratch=True, custom_params={}, figure_type='table')"
      ]
     },
     "execution_count": 1,
     "metadata": {},
     "output_type": "execute_result"
    }
   ],
   "source": [
    "# weights stats and parametric stats \n",
    "from module.core.Figure import StatisticsTable, Histogram, QuantitativeDataSelection\n",
    "legit_regions = [\"OF\",\"PL\",\"aCC\",\"M1\",\"SJ\",\"S1L\",\"S1R\",\"AC\",\"V1\",\"A\",\"dH\",\"vH\",\"NAc\",\"VM\",\"DM\",\"VL\",\"DL\",\"MD\",\"VPL\",\"VPR\",\"DLG\",\"HY\",\"SC\",\"SN\",\"VTA\",\"DR\",\"MR\",\"CB\"]\n",
    "\n",
    "StatisticsTable(project=\"TCB-2\", \n",
    "                          experiment=\"weight\",\n",
    "                          region=legit_regions, \n",
    "                          from_scratch=True\n",
    "                          )\n"
   ]
  }
 ],
 "metadata": {
  "kernelspec": {
   "display_name": ".venv",
   "language": "python",
   "name": "python3"
  },
  "language_info": {
   "codemirror_mode": {
    "name": "ipython",
    "version": 3
   },
   "file_extension": ".py",
   "mimetype": "text/x-python",
   "name": "python",
   "nbconvert_exporter": "python",
   "pygments_lexer": "ipython3",
   "version": "3.10.13"
  }
 },
 "nbformat": 4,
 "nbformat_minor": 2
}
