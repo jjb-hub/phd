{
 "cells": [
  {
   "cell_type": "code",
   "execution_count": null,
   "metadata": {},
   "outputs": [],
   "source": [
    "# INTERFACE\n",
    "from module.core.display import playground\n",
    "from module.core.Project import Project\n",
    "\n",
    "# Project('example_project_name') #initiate project \n",
    "\n",
    "playground() # loat interface"
   ]
  }
 ],
 "metadata": {
  "language_info": {
   "name": "python"
  }
 },
 "nbformat": 4,
 "nbformat_minor": 2
}
