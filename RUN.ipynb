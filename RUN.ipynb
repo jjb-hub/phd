{
 "cells": [
  {
   "attachments": {},
   "cell_type": "markdown",
   "metadata": {},
   "source": [
    "HOW MUCH RED PAINT DOES IT TAKE TO BE FUNNIER THAN SOUND?"
   ]
  },
  {
   "cell_type": "code",
   "execution_count": 13,
   "metadata": {},
   "outputs": [
    {
     "name": "stdout",
     "output_type": "stream",
     "text": [
      "CREATED /home/remi/jasmine/input/TCB2 DIRECTORY\n",
      "CREATED EMPTY /home/remi/jasmine/input/TCB2/treatment_mapping.json FILE, PLEASE FILL IT IN\n",
      "CREATED EMPTY /home/remi/jasmine/input/TCB2/experimental_info.json FILE, PLEASE FILL IT IN\n",
      "CREATED EMPTY /home/remi/jasmine/input/TCB2/compound_ratio_mapping.json FILE, PLEASE FILL IT IN\n",
      "CREATED EMPTY /home/remi/jasmine/input/TCB2/region_subclassification.json FILE, PLEASE FILL IT IN\n",
      "CREATED EMPTY /home/remi/jasmine/input/TCB2/compound_subclassification.json FILE, PLEASE FILL IT IN\n",
      "BUILDING \"\"\n",
      "MISSING TCB2_.csv FILE, PLEASE ADD IT TO /home/remi/jasmine/input/TCB2\n"
     ]
    },
    {
     "ename": "IsADirectoryError",
     "evalue": "[Errno 21] Is a directory: '/home/remi/jasmine/input/TCB2/'",
     "output_type": "error",
     "traceback": [
      "\u001b[0;31m---------------------------------------------------------------------------\u001b[0m",
      "\u001b[0;31mIsADirectoryError\u001b[0m                         Traceback (most recent call last)",
      "\u001b[1;32m/home/remi/jasmine/RUN.ipynb Cell 2\u001b[0m line \u001b[0;36m2\n\u001b[1;32m      <a href='vscode-notebook-cell://wsl%2Bubuntu/home/remi/jasmine/RUN.ipynb#W1sdnNjb2RlLXJlbW90ZQ%3D%3D?line=0'>1</a>\u001b[0m \u001b[39mfrom\u001b[39;00m \u001b[39mmodule\u001b[39;00m\u001b[39m.\u001b[39;00m\u001b[39mExperiments\u001b[39;00m \u001b[39mimport\u001b[39;00m Experiment\n\u001b[0;32m----> <a href='vscode-notebook-cell://wsl%2Bubuntu/home/remi/jasmine/RUN.ipynb#W1sdnNjb2RlLXJlbW90ZQ%3D%3D?line=1'>2</a>\u001b[0m Experiment(\u001b[39m'\u001b[39;49m\u001b[39mTCB2\u001b[39;49m\u001b[39m'\u001b[39;49m)\n",
      "File \u001b[0;32m~/jasmine/module/Experiments.py:25\u001b[0m, in \u001b[0;36mExperiment.__init__\u001b[0;34m(self, name)\u001b[0m\n\u001b[1;32m     23\u001b[0m \u001b[39mself\u001b[39m\u001b[39m.\u001b[39mname \u001b[39m=\u001b[39m name\n\u001b[1;32m     24\u001b[0m \u001b[39mself\u001b[39m\u001b[39m.\u001b[39mconfig \u001b[39m=\u001b[39m Configuration(name)\n\u001b[0;32m---> 25\u001b[0m \u001b[39mself\u001b[39m\u001b[39m.\u001b[39mHPLC \u001b[39m=\u001b[39m HPLC(name, \u001b[39mself\u001b[39;49m\u001b[39m.\u001b[39;49mconfig)\n\u001b[1;32m     26\u001b[0m \u001b[39mself\u001b[39m\u001b[39m.\u001b[39mHT \u001b[39m=\u001b[39m HT(name, \u001b[39mself\u001b[39m\u001b[39m.\u001b[39mconfig)\n",
      "File \u001b[0;32m~/jasmine/module/Datasets.py:21\u001b[0m, in \u001b[0;36mDataset.__init__\u001b[0;34m(self, experiment, config)\u001b[0m\n\u001b[1;32m     19\u001b[0m \u001b[39mself\u001b[39m\u001b[39m.\u001b[39mcache \u001b[39m=\u001b[39m Cache(\u001b[39mself\u001b[39m\u001b[39m.\u001b[39mpath, \u001b[39mself\u001b[39m\u001b[39m.\u001b[39mdata_type)\n\u001b[1;32m     20\u001b[0m \u001b[39mself\u001b[39m\u001b[39m.\u001b[39mconfig \u001b[39m=\u001b[39m config\n\u001b[0;32m---> 21\u001b[0m \u001b[39mself\u001b[39m\u001b[39m.\u001b[39mdata \u001b[39m=\u001b[39m \u001b[39mself\u001b[39;49m\u001b[39m.\u001b[39;49mcache\u001b[39m.\u001b[39;49mget_or_add(\u001b[39mself\u001b[39;49m\u001b[39m.\u001b[39;49minitialise_data)\n",
      "File \u001b[0;32m~/jasmine/module/Cache.py:25\u001b[0m, in \u001b[0;36mCache.get_or_add\u001b[0;34m(self, builder_cb)\u001b[0m\n\u001b[1;32m     23\u001b[0m \u001b[39mprint\u001b[39m(\u001b[39mf\u001b[39m\u001b[39m'\u001b[39m\u001b[39mBUILDING \u001b[39m\u001b[39m\"\u001b[39m\u001b[39m{\u001b[39;00m\u001b[39mself\u001b[39m\u001b[39m.\u001b[39mdata_type\u001b[39m}\u001b[39;00m\u001b[39m\"\u001b[39m\u001b[39m'\u001b[39m)\n\u001b[1;32m     24\u001b[0m to_cache \u001b[39m=\u001b[39m builder_cb()\n\u001b[0;32m---> 25\u001b[0m \u001b[39mself\u001b[39;49m\u001b[39m.\u001b[39;49mcache(to_cache)\n",
      "File \u001b[0;32m~/jasmine/module/Cache.py:29\u001b[0m, in \u001b[0;36mCache.cache\u001b[0;34m(self, to_cache)\u001b[0m\n\u001b[1;32m     28\u001b[0m \u001b[39mdef\u001b[39;00m \u001b[39mcache\u001b[39m(\u001b[39mself\u001b[39m, to_cache):\n\u001b[0;32m---> 29\u001b[0m     \u001b[39mwith\u001b[39;00m \u001b[39mopen\u001b[39;49m(\u001b[39mself\u001b[39;49m\u001b[39m.\u001b[39;49mcache_filepath, \u001b[39m\"\u001b[39;49m\u001b[39mwb\u001b[39;49m\u001b[39m\"\u001b[39;49m) \u001b[39mas\u001b[39;00m file:\n\u001b[1;32m     30\u001b[0m         pickle\u001b[39m.\u001b[39mdump(to_cache, file)\n\u001b[1;32m     31\u001b[0m     \u001b[39mprint\u001b[39m(\u001b[39mf\u001b[39m\u001b[39m\"\u001b[39m\u001b[39mCACHED \u001b[39m\u001b[39m{\u001b[39;00m\u001b[39mself\u001b[39m\u001b[39m.\u001b[39mcache_filepath\u001b[39m}\u001b[39;00m\u001b[39m.pkl\u001b[39m\u001b[39m\"\u001b[39m)\n",
      "\u001b[0;31mIsADirectoryError\u001b[0m: [Errno 21] Is a directory: '/home/remi/jasmine/input/TCB2/'"
     ]
    }
   ],
   "source": [
    "# IMPORTS/CONSTANTS FOR EXPERIMENT\n",
    "\n",
    "from main import *  # Must be reimported when changes made to module file\n",
    "\n",
    "%load_ext autoreload \n",
    "%autoreload 2\n",
    "\n",
    "treatment_mapping = (\n",
    "    {  # TO DO : change name to treatment_info and add columns in df REMI\n",
    "        1: {\"treatment\": \"vehicles\",\n",
    "            \"color\": \"white\",\n",
    "            \"experiments\": [\"dose_response\", \"agonist_antagonist\"],\n",
    "            },\n",
    "        2: {\"treatment\": \"0.3mg/kgTCB\",\n",
    "            \"color\": \"salmon\",\n",
    "            \"experiments\": [\"dose_response\"],\n",
    "            },\n",
    "        3: {\"treatment\": \"3mg/kgTCB\",\n",
    "            \"color\": \"red\",\n",
    "            \"experiments\": [\"dose_response\", \"agonist_antagonist\"],\n",
    "            },\n",
    "        4: {\"treatment\": \"10mg/kgTCB\",\n",
    "            \"color\": \"firebrick\",\n",
    "            \"experiments\": [\"dose_response\"],\n",
    "            },\n",
    "        5: {\"treatment\": \"0.2mg/kgMDL\",\n",
    "            \"color\": \"grey\",\n",
    "            \"experiments\": [\"agonist_antagonist\"],\n",
    "            },\n",
    "        6: {\"treatment\": \"TCB+MDL\",\n",
    "            \"color\": \"black\",\n",
    "            \"experiments\": [\"agonist_antagonist\"],\n",
    "            },\n",
    "    }\n",
    ")\n",
    "\n",
    "\n",
    "#PDD would like to do manuely with no stats BUT\n",
    "\n",
    "#chose one set it and its a constant\n",
    "#JJB: possible outlier tests  = ['grubbs', 'ROUT']  #JJB chece if grubbs is itterative and what limit set \n",
    "# possible post hoc = [ 'pLSD' , 'tukey' ]\n",
    "\n",
    "\n",
    "compound_ratio_mapping = { \n",
    "    \"DOPAC\": [\"DA\"],\n",
    "    \"5HIAA\": [\"5HT\"],\n",
    "    \"3MT\": [\"DA\"],\n",
    "    \"HVA\": [\"DA\", \"3MT\", \"DOPAC\"],\n",
    "    \"GLN\": [\"GLU\"],\n",
    "}\n",
    "region_subclassification = {\n",
    "    'cortex': {'regions': ['OF', 'PL', 'CC', 'IC', 'M', 'SL1', 'SR1', 'AC', 'V'], 'color': 'mediumblue'}, #SR6, SL6 ?\n",
    "    'subcortical_telencephalon': {'regions': ['Am', 'dH', 'vH', 'NAc', 'VM', 'DM', 'VL', 'DL'], 'color': 'orange'},\n",
    "    'diencephalon': {'regions': ['MD', 'VPL', 'VPR', 'DG', 'Y'], 'color': 'darkorchid'},\n",
    "    'mesencephalon': {'regions': ['SC', 'SN', 'VTA', 'DR', 'MR'], 'color': 'forestgreen'},\n",
    "    'cerebellum': {'regions': ['CE'], 'color': 'peru'}\n",
    "}\n",
    "compound_subclassification = {\n",
    "    'monoamines':['LDOPA', 'NA', 'A', '5HTP', 'DOPAC', 'DA', '5HIAA', 'HVA', '5HT', 'VMA', '3MT'],\n",
    "    'amino_acids':['ASP', 'GLU', 'ASPN', 'HIS', 'LSER', 'GLN', 'ARG', 'GLY', 'THR', 'TAU', 'ALA', 'TYR', 'GABA'],\n",
    "    'neurotransmitters':['DA','NA','5HT','GLU','GABA','ASP','GLY']\n",
    "}\n",
    "\n",
    "\n",
    "\n",
    "filename = \"TCB2_data_HPLC.csv\"  # TCB2 #using current working directory plus file name\n",
    "HT_filename = \"TCB2_data_HT.csv\"\n",
    "\n",
    "\n",
    "# JJB : this is how I believe it should be, your code relies on quantitative_statistics and correlation_statistics this should be removed\n",
    "experimental_info = {\n",
    "    \"dose_response\": {\"groups\": [1, 2, 3, 4], \n",
    "                      \"independant_vars\": [\"TCB2\"], \n",
    "                      \"paired\": False,\n",
    "                      \"parametric\": True, #idealy this would be True / False / Check : check would involve checking the data using the spearman test which should already be done then taking the majority of the data to be parametric or not chose that \n",
    "                      \"outliers\": ['grubbs'], \n",
    "\n",
    "\n",
    "    \"agonist_antagonist\": {\"groups\": [1,3,5,6,],  \n",
    "                         \"independant_vars\": [\"TCB2\",\"MDL\"],\n",
    "                         \"paired\": False,\n",
    "                         \"parametric\": True,\n",
    "                         \"outliers\": [\"grubbs\"], \n",
    "                         \"quantitative_statistics\": { \"twoway_anova\": True, #DELETE ONCE STATS LOGIC IN\n",
    "                                                     \"oneway_anova\": True,\n",
    "                                                     \"tukey\": True,}\n",
    "                           },\n",
    "}}\n",
    "\n",
    "\n",
    "saveMetadata(\n",
    "    filename, treatment_mapping=treatment_mapping, experimental_info=experimental_info, region_subclassification=region_subclassification, compound_subclassification=compound_subclassification, compound_ratio_mapping=compound_ratio_mapping\n",
    ")\n",
    "\n",
    "saveMetadata(\n",
    "    HT_filename, treatment_mapping=treatment_mapping, experimental_info=experimental_info, region_subclassification=region_subclassification, compound_subclassification=compound_subclassification, compound_ratio_mapping=compound_ratio_mapping\n",
    ")\n"
   ]
  },
  {
   "cell_type": "code",
   "execution_count": 12,
   "metadata": {},
   "outputs": [
    {
     "name": "stdout",
     "output_type": "stream",
     "text": [
      "EXITING PROGRAM\n"
     ]
    },
    {
     "ename": "SystemExit",
     "evalue": "",
     "output_type": "error",
     "traceback": [
      "An exception has occurred, use %tb to see the full traceback.\n",
      "\u001b[0;31mSystemExit\u001b[0m\n"
     ]
    },
    {
     "name": "stderr",
     "output_type": "stream",
     "text": [
      "/home/remi/jasmine/.venv/lib/python3.8/site-packages/IPython/core/interactiveshell.py:3513: UserWarning: To exit: use 'exit', 'quit', or Ctrl-D.\n",
      "  warn(\"To exit: use 'exit', 'quit', or Ctrl-D.\", stacklevel=1)\n"
     ]
    }
   ],
   "source": [
    "# quantitativeSummary(\n",
    "#         filename,\n",
    "#         experiment='dose_response',\n",
    "#         histogram_type='compound', #chose a single compound or region\n",
    "#         to_plot=['DA'], #chose a list of regions or compounds (x-axis of hist)\n",
    "#         p_value_threshold=0.05,\n",
    "#         columns=['DM','VM','DL','VL'],\n",
    "#         from_scratch=True )\n",
    "\n",
    "quantitativeSummary(filename)"
   ]
  },
  {
   "cell_type": "code",
   "execution_count": null,
   "metadata": {},
   "outputs": [],
   "source": [
    "#CHOSE ALL OUTLIERS IN LOOP - REMI (ratios only compound_ratio_mapping)\n",
    "percentageVehiclesFig(\n",
    "        filename,\n",
    "        experiment='dose_response',\n",
    "        compound='DA',\n",
    "        regions=[\"OF\",\"PL\",\"CC\", \"IC\",\"M\", \"SJ\",\"SL1\", \"SL6\", \"SR6\", \"SR1\", \"AC\", \"V\",  \n",
    "                \"Am\", \"dH\", \"vH\", \"NAc\", \"VM\", \"DM\",\"VL\", \"DL\", \"MD\",  \"VPL\",  \"VPR\", \n",
    "                \"DG\", \"Y\",  \"SC\",\"SN\", \"VTA\", \"DR\",\"MR\", \"CE\"], #REMI i would ike this to work the same way it does for correlograms i.e. also specifying the order \n",
    "        from_scratch=True )\n"
   ]
  },
  {
   "cell_type": "code",
   "execution_count": null,
   "metadata": {},
   "outputs": [],
   "source": [
    "#QUANTITATIVE HISTOGRAMS\n",
    "\n",
    "quantitativeHistogram( \n",
    "    filename,\n",
    "    p_value_threshold=0.05,\n",
    ")\n",
    "\n",
    "# quantitativeHistogram( #REMI this still forces prompts - not fun\n",
    "#     filename,\n",
    "#     experiment='agonist_antagonist',\n",
    "#     compound='5HIAA/5HT',\n",
    "#     region='AC',\n",
    "#     outlier_test= 'grubbs', #this should not be asked every time it is something you would set once in the constants for this experiment, could do redo_outliers = T/F\n",
    "#     #it forced me to do outliers as ther were not done 5HIAA/5HT in DL dont love this \n",
    "#     p_value_threshold=0.05, #again this should be a constant for the experiment \n",
    "#     from_scratch=True,\n",
    "# )\n",
    "\n",
    "# subselectDf(getCompoundAndRatiosDf(filename), {'compound':'5HIAA/5HT', 'region':'OF', 'experiment':'agonist_antagonist'})\n"
   ]
  },
  {
   "cell_type": "code",
   "execution_count": null,
   "metadata": {},
   "outputs": [],
   "source": [
    "#CORRELOGRAMS\n",
    "\n",
    "correlogram(filename, p_value_threshold=0.05) #with prompts\n",
    "\n",
    "#copy bellow \n",
    "# OF,PL,CC,M,SJ,SL1,SR1,AC,V,Am,dH,vH,NAc,VM,DM,VL,DL,MD,VPL,VPR,DG,Y,SC,SN,VTA,DR,MR,CE\n",
    "\n",
    "\n",
    "# correlogram(filename, \n",
    "#             experiment='agonist_antagonist', \n",
    "#             correlogram_type='compound',\n",
    "#             to_correlate='DA-5HT', \n",
    "#             p_value_threshold=0.05, \n",
    "#             n_minimum=5, \n",
    "#             columns=[\"OF\",\"PL\",\"CC\", \"IC\",\"M\", \"SJ\",\"SL1\", \"SL6\", \"SR6\", \"SR1\", \"AC\", \"V\",  \n",
    "#                      \"Am\", \"dH\", \"vH\", \"NAc\", \"VM\", \"DM\",\"VL\", \"DL\", \"MD\",  \"VPL\",  \"VPR\", \n",
    "#                      \"DG\", \"Y\",  \"SC\",\"SN\", \"VTA\", \"DR\",\"MR\", \"CE\"],\n",
    "#             from_scratch=True,\n",
    "#             )"
   ]
  },
  {
   "cell_type": "code",
   "execution_count": null,
   "metadata": {},
   "outputs": [],
   "source": [
    "#BEHQVIOR (HT / ES) #REMI need to intergrate stats logic, outliers, prompts and building multiple at once\n",
    "headTwitchHistogram(\n",
    "    HT_filename,\n",
    "    experiment='agonist_antagonist',\n",
    "    vairable='HT_20',\n",
    "    outlier_test=None,\n",
    "    p_value_threshold=0.05,\n",
    "    from_scratch=True,\n",
    ")\n",
    "\n",
    "# subselectDf(getHeadTwitchDf(HT_filename), {\"treatment\": \"0.2mg/kgMDL\", \"experiment\": \"agonist_antagonist\"})\n"
   ]
  },
  {
   "cell_type": "code",
   "execution_count": null,
   "metadata": {},
   "outputs": [],
   "source": [
    "#SUBSELECT RAW DATA\n",
    "\n",
    "subselectDf(getCompoundAndRatiosDf(filename), {\"treatment\": \"3mg/kgTCB\", \"compound\": \"3MT\", \"region\":[\"SJ\", \"dH\"]})\n",
    "#second pram is a dict of colname and subgroup to select\n"
   ]
  },
  {
   "cell_type": "code",
   "execution_count": null,
   "metadata": {},
   "outputs": [],
   "source": [
    "#GET AGGERGATED STATS DF\n",
    "subselectDf(getAggregateStatsDf(filename), {\"treatment\": \"10mg/kgTCB\", \"experiment\": \"dose_response\"})\n",
    "#second pram is a dict of colname and subgroup to select\n"
   ]
  },
  {
   "cell_type": "code",
   "execution_count": null,
   "metadata": {},
   "outputs": [],
   "source": [
    "#PCA"
   ]
  },
  {
   "cell_type": "code",
   "execution_count": null,
   "metadata": {},
   "outputs": [],
   "source": [
    "#GRAPH THEORY \n",
    "#https://networkx.org/documentation/latest/"
   ]
  }
 ],
 "metadata": {
  "kernelspec": {
   "display_name": ".venv",
   "language": "python",
   "name": "python3"
  },
  "language_info": {
   "codemirror_mode": {
    "name": "ipython",
    "version": 3
   },
   "file_extension": ".py",
   "mimetype": "text/x-python",
   "name": "python",
   "nbconvert_exporter": "python",
   "pygments_lexer": "ipython3",
   "version": "3.8.0"
  },
  "orig_nbformat": 4
 },
 "nbformat": 4,
 "nbformat_minor": 2
}
